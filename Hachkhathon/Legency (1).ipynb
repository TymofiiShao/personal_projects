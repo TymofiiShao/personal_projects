{
 "cells": [
  {
   "cell_type": "code",
   "execution_count": 47,
   "metadata": {
    "id": "NctXmLHTKtMp"
   },
   "outputs": [],
   "source": [
    "import numpy as np\n",
    "import pandas as pd\n",
    "import matplotlib.pyplot as plt\n",
    "import sklearn as sk\n",
    "from sklearn.ensemble import RandomForestRegressor\n",
    "from sklearn.linear_model import LinearRegression\n",
    "from sklearn.neural_network import MLPRegressor\n",
    "from sklearn.ensemble import GradientBoostingRegressor\n",
    "from sklearn.metrics import mean_absolute_percentage_error as mape\n",
    "from sklearn.metrics import mean_absolute_error as mae\n",
    "from sklearn.metrics import mean_squared_error as mse\n",
    "import seaborn as sns\n",
    "from sklearn.model_selection import GridSearchCV\n",
    "plt.style.use('seaborn-whitegrid')"
   ]
  },
  {
   "cell_type": "code",
   "execution_count": 2,
   "metadata": {
    "colab": {
     "base_uri": "https://localhost:8080/",
     "height": 488
    },
    "id": "x05FKJgBOHtC",
    "outputId": "1c24892b-0c67-49cf-8a84-c7dab1543d3c"
   },
   "outputs": [
    {
     "data": {
      "text/html": [
       "<div>\n",
       "<style scoped>\n",
       "    .dataframe tbody tr th:only-of-type {\n",
       "        vertical-align: middle;\n",
       "    }\n",
       "\n",
       "    .dataframe tbody tr th {\n",
       "        vertical-align: top;\n",
       "    }\n",
       "\n",
       "    .dataframe thead th {\n",
       "        text-align: right;\n",
       "    }\n",
       "</style>\n",
       "<table border=\"1\" class=\"dataframe\">\n",
       "  <thead>\n",
       "    <tr style=\"text-align: right;\">\n",
       "      <th></th>\n",
       "      <th>total_sessions_day0</th>\n",
       "      <th>total_sessions_day1</th>\n",
       "      <th>total_sessions_day3</th>\n",
       "      <th>total_sessions_day7</th>\n",
       "      <th>chapters_finished_day0</th>\n",
       "      <th>chapters_finished_day1</th>\n",
       "      <th>chapters_finished_day3</th>\n",
       "      <th>chapters_finished_day7</th>\n",
       "      <th>chapters_opened_day0</th>\n",
       "      <th>chapters_opened_day1</th>\n",
       "      <th>...</th>\n",
       "      <th>install_date</th>\n",
       "      <th>country_code</th>\n",
       "      <th>ad_ltv_day0</th>\n",
       "      <th>ad_ltv_day1</th>\n",
       "      <th>ad_ltv_day3</th>\n",
       "      <th>platform</th>\n",
       "      <th>target_sub_ltv_day30</th>\n",
       "      <th>target_iap_ltv_day30</th>\n",
       "      <th>target_ad_ltv_day30</th>\n",
       "      <th>target_full_ltv_day30</th>\n",
       "    </tr>\n",
       "  </thead>\n",
       "  <tbody>\n",
       "    <tr>\n",
       "      <th>0</th>\n",
       "      <td>1.0</td>\n",
       "      <td>1.0</td>\n",
       "      <td>1.0</td>\n",
       "      <td>1.0</td>\n",
       "      <td>0</td>\n",
       "      <td>0</td>\n",
       "      <td>0</td>\n",
       "      <td>0</td>\n",
       "      <td>0</td>\n",
       "      <td>0</td>\n",
       "      <td>...</td>\n",
       "      <td>2021-12-03</td>\n",
       "      <td>COUNTRY_135</td>\n",
       "      <td>0.000000</td>\n",
       "      <td>0.000000</td>\n",
       "      <td>0.000000</td>\n",
       "      <td>ios</td>\n",
       "      <td>0.000000</td>\n",
       "      <td>0.000000</td>\n",
       "      <td>0.000000</td>\n",
       "      <td>0.000000</td>\n",
       "    </tr>\n",
       "    <tr>\n",
       "      <th>1</th>\n",
       "      <td>1.0</td>\n",
       "      <td>1.0</td>\n",
       "      <td>1.0</td>\n",
       "      <td>1.0</td>\n",
       "      <td>0</td>\n",
       "      <td>0</td>\n",
       "      <td>0</td>\n",
       "      <td>0</td>\n",
       "      <td>0</td>\n",
       "      <td>0</td>\n",
       "      <td>...</td>\n",
       "      <td>2021-12-03</td>\n",
       "      <td>COUNTRY_141</td>\n",
       "      <td>0.000000</td>\n",
       "      <td>0.000000</td>\n",
       "      <td>0.000000</td>\n",
       "      <td>android</td>\n",
       "      <td>0.000000</td>\n",
       "      <td>0.000000</td>\n",
       "      <td>0.000000</td>\n",
       "      <td>0.000000</td>\n",
       "    </tr>\n",
       "    <tr>\n",
       "      <th>2</th>\n",
       "      <td>1.0</td>\n",
       "      <td>2.0</td>\n",
       "      <td>2.0</td>\n",
       "      <td>2.0</td>\n",
       "      <td>0</td>\n",
       "      <td>0</td>\n",
       "      <td>0</td>\n",
       "      <td>0</td>\n",
       "      <td>0</td>\n",
       "      <td>0</td>\n",
       "      <td>...</td>\n",
       "      <td>2021-12-03</td>\n",
       "      <td>COUNTRY_141</td>\n",
       "      <td>0.000000</td>\n",
       "      <td>0.000000</td>\n",
       "      <td>0.000000</td>\n",
       "      <td>android</td>\n",
       "      <td>0.000000</td>\n",
       "      <td>0.000000</td>\n",
       "      <td>0.000000</td>\n",
       "      <td>0.000000</td>\n",
       "    </tr>\n",
       "    <tr>\n",
       "      <th>3</th>\n",
       "      <td>1.0</td>\n",
       "      <td>1.0</td>\n",
       "      <td>1.0</td>\n",
       "      <td>1.0</td>\n",
       "      <td>0</td>\n",
       "      <td>0</td>\n",
       "      <td>0</td>\n",
       "      <td>0</td>\n",
       "      <td>0</td>\n",
       "      <td>0</td>\n",
       "      <td>...</td>\n",
       "      <td>2021-12-03</td>\n",
       "      <td>COUNTRY_141</td>\n",
       "      <td>0.000000</td>\n",
       "      <td>0.000000</td>\n",
       "      <td>0.000000</td>\n",
       "      <td>ios</td>\n",
       "      <td>0.000000</td>\n",
       "      <td>0.000000</td>\n",
       "      <td>0.000000</td>\n",
       "      <td>0.000000</td>\n",
       "    </tr>\n",
       "    <tr>\n",
       "      <th>4</th>\n",
       "      <td>1.0</td>\n",
       "      <td>1.0</td>\n",
       "      <td>1.0</td>\n",
       "      <td>1.0</td>\n",
       "      <td>0</td>\n",
       "      <td>0</td>\n",
       "      <td>0</td>\n",
       "      <td>0</td>\n",
       "      <td>0</td>\n",
       "      <td>0</td>\n",
       "      <td>...</td>\n",
       "      <td>2021-12-03</td>\n",
       "      <td>COUNTRY_203</td>\n",
       "      <td>0.000000</td>\n",
       "      <td>0.000000</td>\n",
       "      <td>0.000000</td>\n",
       "      <td>android</td>\n",
       "      <td>0.000000</td>\n",
       "      <td>0.000000</td>\n",
       "      <td>0.000000</td>\n",
       "      <td>0.000000</td>\n",
       "    </tr>\n",
       "    <tr>\n",
       "      <th>...</th>\n",
       "      <td>...</td>\n",
       "      <td>...</td>\n",
       "      <td>...</td>\n",
       "      <td>...</td>\n",
       "      <td>...</td>\n",
       "      <td>...</td>\n",
       "      <td>...</td>\n",
       "      <td>...</td>\n",
       "      <td>...</td>\n",
       "      <td>...</td>\n",
       "      <td>...</td>\n",
       "      <td>...</td>\n",
       "      <td>...</td>\n",
       "      <td>...</td>\n",
       "      <td>...</td>\n",
       "      <td>...</td>\n",
       "      <td>...</td>\n",
       "      <td>...</td>\n",
       "      <td>...</td>\n",
       "      <td>...</td>\n",
       "      <td>...</td>\n",
       "    </tr>\n",
       "    <tr>\n",
       "      <th>1467827</th>\n",
       "      <td>11.0</td>\n",
       "      <td>11.0</td>\n",
       "      <td>11.0</td>\n",
       "      <td>11.0</td>\n",
       "      <td>9</td>\n",
       "      <td>9</td>\n",
       "      <td>9</td>\n",
       "      <td>9</td>\n",
       "      <td>10</td>\n",
       "      <td>10</td>\n",
       "      <td>...</td>\n",
       "      <td>2021-12-30</td>\n",
       "      <td>COUNTRY_141</td>\n",
       "      <td>0.037158</td>\n",
       "      <td>0.037158</td>\n",
       "      <td>0.037158</td>\n",
       "      <td>ios</td>\n",
       "      <td>0.000000</td>\n",
       "      <td>4.174198</td>\n",
       "      <td>0.037158</td>\n",
       "      <td>4.211356</td>\n",
       "    </tr>\n",
       "    <tr>\n",
       "      <th>1467828</th>\n",
       "      <td>2.0</td>\n",
       "      <td>3.0</td>\n",
       "      <td>6.0</td>\n",
       "      <td>7.0</td>\n",
       "      <td>5</td>\n",
       "      <td>9</td>\n",
       "      <td>11</td>\n",
       "      <td>13</td>\n",
       "      <td>6</td>\n",
       "      <td>10</td>\n",
       "      <td>...</td>\n",
       "      <td>2021-12-30</td>\n",
       "      <td>COUNTRY_141</td>\n",
       "      <td>0.039256</td>\n",
       "      <td>0.039256</td>\n",
       "      <td>0.091267</td>\n",
       "      <td>ios</td>\n",
       "      <td>4.705161</td>\n",
       "      <td>10.967580</td>\n",
       "      <td>0.091267</td>\n",
       "      <td>15.764008</td>\n",
       "    </tr>\n",
       "    <tr>\n",
       "      <th>1467829</th>\n",
       "      <td>3.0</td>\n",
       "      <td>5.0</td>\n",
       "      <td>11.0</td>\n",
       "      <td>13.0</td>\n",
       "      <td>5</td>\n",
       "      <td>9</td>\n",
       "      <td>15</td>\n",
       "      <td>18</td>\n",
       "      <td>5</td>\n",
       "      <td>10</td>\n",
       "      <td>...</td>\n",
       "      <td>2021-12-30</td>\n",
       "      <td>COUNTRY_141</td>\n",
       "      <td>0.000000</td>\n",
       "      <td>0.000000</td>\n",
       "      <td>0.000000</td>\n",
       "      <td>ios</td>\n",
       "      <td>0.000000</td>\n",
       "      <td>14.938221</td>\n",
       "      <td>0.000000</td>\n",
       "      <td>14.938221</td>\n",
       "    </tr>\n",
       "    <tr>\n",
       "      <th>1467830</th>\n",
       "      <td>5.0</td>\n",
       "      <td>5.0</td>\n",
       "      <td>5.0</td>\n",
       "      <td>5.0</td>\n",
       "      <td>24</td>\n",
       "      <td>24</td>\n",
       "      <td>24</td>\n",
       "      <td>24</td>\n",
       "      <td>24</td>\n",
       "      <td>24</td>\n",
       "      <td>...</td>\n",
       "      <td>2021-12-30</td>\n",
       "      <td>COUNTRY_141</td>\n",
       "      <td>0.177550</td>\n",
       "      <td>0.177550</td>\n",
       "      <td>0.177550</td>\n",
       "      <td>ios</td>\n",
       "      <td>0.000000</td>\n",
       "      <td>7.402224</td>\n",
       "      <td>0.177550</td>\n",
       "      <td>7.579774</td>\n",
       "    </tr>\n",
       "    <tr>\n",
       "      <th>1467831</th>\n",
       "      <td>6.0</td>\n",
       "      <td>7.0</td>\n",
       "      <td>7.0</td>\n",
       "      <td>7.0</td>\n",
       "      <td>15</td>\n",
       "      <td>15</td>\n",
       "      <td>15</td>\n",
       "      <td>15</td>\n",
       "      <td>15</td>\n",
       "      <td>16</td>\n",
       "      <td>...</td>\n",
       "      <td>2021-12-30</td>\n",
       "      <td>COUNTRY_141</td>\n",
       "      <td>0.114909</td>\n",
       "      <td>0.114909</td>\n",
       "      <td>0.114909</td>\n",
       "      <td>android</td>\n",
       "      <td>0.000000</td>\n",
       "      <td>3.949385</td>\n",
       "      <td>0.114909</td>\n",
       "      <td>4.064295</td>\n",
       "    </tr>\n",
       "  </tbody>\n",
       "</table>\n",
       "<p>1467832 rows × 63 columns</p>\n",
       "</div>"
      ],
      "text/plain": [
       "         total_sessions_day0  total_sessions_day1  total_sessions_day3  \\\n",
       "0                        1.0                  1.0                  1.0   \n",
       "1                        1.0                  1.0                  1.0   \n",
       "2                        1.0                  2.0                  2.0   \n",
       "3                        1.0                  1.0                  1.0   \n",
       "4                        1.0                  1.0                  1.0   \n",
       "...                      ...                  ...                  ...   \n",
       "1467827                 11.0                 11.0                 11.0   \n",
       "1467828                  2.0                  3.0                  6.0   \n",
       "1467829                  3.0                  5.0                 11.0   \n",
       "1467830                  5.0                  5.0                  5.0   \n",
       "1467831                  6.0                  7.0                  7.0   \n",
       "\n",
       "         total_sessions_day7  chapters_finished_day0  chapters_finished_day1  \\\n",
       "0                        1.0                       0                       0   \n",
       "1                        1.0                       0                       0   \n",
       "2                        2.0                       0                       0   \n",
       "3                        1.0                       0                       0   \n",
       "4                        1.0                       0                       0   \n",
       "...                      ...                     ...                     ...   \n",
       "1467827                 11.0                       9                       9   \n",
       "1467828                  7.0                       5                       9   \n",
       "1467829                 13.0                       5                       9   \n",
       "1467830                  5.0                      24                      24   \n",
       "1467831                  7.0                      15                      15   \n",
       "\n",
       "         chapters_finished_day3  chapters_finished_day7  chapters_opened_day0  \\\n",
       "0                             0                       0                     0   \n",
       "1                             0                       0                     0   \n",
       "2                             0                       0                     0   \n",
       "3                             0                       0                     0   \n",
       "4                             0                       0                     0   \n",
       "...                         ...                     ...                   ...   \n",
       "1467827                       9                       9                    10   \n",
       "1467828                      11                      13                     6   \n",
       "1467829                      15                      18                     5   \n",
       "1467830                      24                      24                    24   \n",
       "1467831                      15                      15                    15   \n",
       "\n",
       "         chapters_opened_day1  ...  install_date  country_code  ad_ltv_day0  \\\n",
       "0                           0  ...    2021-12-03   COUNTRY_135     0.000000   \n",
       "1                           0  ...    2021-12-03   COUNTRY_141     0.000000   \n",
       "2                           0  ...    2021-12-03   COUNTRY_141     0.000000   \n",
       "3                           0  ...    2021-12-03   COUNTRY_141     0.000000   \n",
       "4                           0  ...    2021-12-03   COUNTRY_203     0.000000   \n",
       "...                       ...  ...           ...           ...          ...   \n",
       "1467827                    10  ...    2021-12-30   COUNTRY_141     0.037158   \n",
       "1467828                    10  ...    2021-12-30   COUNTRY_141     0.039256   \n",
       "1467829                    10  ...    2021-12-30   COUNTRY_141     0.000000   \n",
       "1467830                    24  ...    2021-12-30   COUNTRY_141     0.177550   \n",
       "1467831                    16  ...    2021-12-30   COUNTRY_141     0.114909   \n",
       "\n",
       "         ad_ltv_day1  ad_ltv_day3  platform  target_sub_ltv_day30  \\\n",
       "0           0.000000     0.000000       ios              0.000000   \n",
       "1           0.000000     0.000000   android              0.000000   \n",
       "2           0.000000     0.000000   android              0.000000   \n",
       "3           0.000000     0.000000       ios              0.000000   \n",
       "4           0.000000     0.000000   android              0.000000   \n",
       "...              ...          ...       ...                   ...   \n",
       "1467827     0.037158     0.037158       ios              0.000000   \n",
       "1467828     0.039256     0.091267       ios              4.705161   \n",
       "1467829     0.000000     0.000000       ios              0.000000   \n",
       "1467830     0.177550     0.177550       ios              0.000000   \n",
       "1467831     0.114909     0.114909   android              0.000000   \n",
       "\n",
       "         target_iap_ltv_day30  target_ad_ltv_day30  target_full_ltv_day30  \n",
       "0                    0.000000             0.000000               0.000000  \n",
       "1                    0.000000             0.000000               0.000000  \n",
       "2                    0.000000             0.000000               0.000000  \n",
       "3                    0.000000             0.000000               0.000000  \n",
       "4                    0.000000             0.000000               0.000000  \n",
       "...                       ...                  ...                    ...  \n",
       "1467827              4.174198             0.037158               4.211356  \n",
       "1467828             10.967580             0.091267              15.764008  \n",
       "1467829             14.938221             0.000000              14.938221  \n",
       "1467830              7.402224             0.177550               7.579774  \n",
       "1467831              3.949385             0.114909               4.064295  \n",
       "\n",
       "[1467832 rows x 63 columns]"
      ]
     },
     "execution_count": 2,
     "metadata": {},
     "output_type": "execute_result"
    }
   ],
   "source": [
    "path = 'TEST TASK (dataset).csv'         # шлях до датасету\n",
    "data = pd.read_csv(path)\n",
    "data"
   ]
  },
  {
   "cell_type": "markdown",
   "metadata": {
    "id": "y-b0ltV2BrLe"
   },
   "source": [
    "Переведемо колонку дату в тип datetime та розділимо її на 3 колонки: рік, номер місяця та номер дня в місяці."
   ]
  },
  {
   "cell_type": "code",
   "execution_count": 3,
   "metadata": {
    "colab": {
     "base_uri": "https://localhost:8080/"
    },
    "id": "k-DuDh9PC_wg",
    "outputId": "73a52cbf-13c7-4d9f-a6ac-94f1835542b2"
   },
   "outputs": [
    {
     "name": "stdout",
     "output_type": "stream",
     "text": [
      "Min date =  2021-12-01 00:00:00\n",
      "Max date =  2022-01-31 00:00:00\n"
     ]
    }
   ],
   "source": [
    "data['install_date'] = pd.to_datetime(data['install_date'])\n",
    "print('Min date = ', data['install_date'].min())\n",
    "print('Max date = ', data['install_date'].max())"
   ]
  },
  {
   "cell_type": "code",
   "execution_count": 4,
   "metadata": {
    "id": "-xPTjn7ZF6RR"
   },
   "outputs": [],
   "source": [
    "date = data['install_date']\n",
    "data['year'] = date.dt.year\n",
    "data['month'] = date.dt.month\n",
    "data['day'] = date.dt.day\n",
    "\n",
    "data = data.drop(['install_date'],axis=1)"
   ]
  },
  {
   "cell_type": "markdown",
   "metadata": {
    "id": "UXH5SFMuPExn"
   },
   "source": [
    "Замінюємо nan values на нульові значення (в даному випадку nan values відносно дуже мало і тому така проста заміна не буде впливати на результат)"
   ]
  },
  {
   "cell_type": "code",
   "execution_count": 5,
   "metadata": {
    "colab": {
     "base_uri": "https://localhost:8080/"
    },
    "id": "YYfWVYr0HGfv",
    "outputId": "0cac9445-12fe-472f-fc23-aee4a2d3d477"
   },
   "outputs": [
    {
     "name": "stdout",
     "output_type": "stream",
     "text": [
      "Кількість nan values у колонках:\n"
     ]
    },
    {
     "data": {
      "text/plain": [
       "chapters_finished_session3       0\n",
       "chapters_opened_session1         0\n",
       "chapters_opened_session3         0\n",
       "chapters_opened_session9         0\n",
       "chapters_closed_session1         0\n",
       "                              ... \n",
       "tickets_spent_day0               0\n",
       "total_sessions_day0           1365\n",
       "total_sessions_day1           1367\n",
       "total_sessions_day3           1368\n",
       "total_sessions_day7           1374\n",
       "Length: 65, dtype: int64"
      ]
     },
     "execution_count": 5,
     "metadata": {},
     "output_type": "execute_result"
    }
   ],
   "source": [
    "print('Кількість nan values у колонках:')\n",
    "(data.shape[0]-data.count()).sort_values()"
   ]
  },
  {
   "cell_type": "code",
   "execution_count": 6,
   "metadata": {
    "id": "nEsnt9yzVESF"
   },
   "outputs": [],
   "source": [
    "data = data.fillna(0.0)"
   ]
  },
  {
   "cell_type": "markdown",
   "metadata": {
    "id": "ivFyVLKDWT0J"
   },
   "source": [
    "Кодуємо колонки типу string"
   ]
  },
  {
   "cell_type": "code",
   "execution_count": 7,
   "metadata": {
    "id": "Z3Y8Uj-dTqoo"
   },
   "outputs": [],
   "source": [
    "cat_col = ['media_source', 'country_code', 'platform']   # виокремимо в окрему змінну категоріальні дані"
   ]
  },
  {
   "cell_type": "code",
   "execution_count": 8,
   "metadata": {
    "id": "YybaEEMOPIES"
   },
   "outputs": [],
   "source": [
    "# кодуємо дані з відповідних колонок\n",
    "from sklearn.preprocessing import LabelEncoder\n",
    "le = LabelEncoder()\n",
    "for col_name in cat_col:\n",
    "  le.fit(data[col_name])\n",
    "  data[col_name] = le.transform(data[col_name])"
   ]
  },
  {
   "cell_type": "code",
   "execution_count": 9,
   "metadata": {
    "colab": {
     "base_uri": "https://localhost:8080/"
    },
    "id": "yGFHkVfilPGj",
    "outputId": "f2d6941c-dfaa-4311-dc3d-ffeb0930df6f"
   },
   "outputs": [
    {
     "data": {
      "text/plain": [
       "array(['android', 'ios'], dtype=object)"
      ]
     },
     "execution_count": 9,
     "metadata": {},
     "output_type": "execute_result"
    }
   ],
   "source": [
    "le.classes_        # перевірімо в які класи закодувалися назви платформ, щоб потім побудувати діаграма "
   ]
  },
  {
   "cell_type": "code",
   "execution_count": 10,
   "metadata": {
    "colab": {
     "base_uri": "https://localhost:8080/"
    },
    "id": "454QqzaJQGgG",
    "outputId": "fad2a5b4-7ba7-4d38-8fad-2af470be9c25"
   },
   "outputs": [
    {
     "data": {
      "text/plain": [
       "array([ 41,  48, 117, 156,  38, 164,  61,  28,  63, 208,  35,  18,  17,\n",
       "       126, 194, 202,  43, 150, 172, 189, 153,  57, 106,  34,  14, 143,\n",
       "         9, 133, 141,  51, 203, 140,   5, 114, 168,  74, 122,  64, 161,\n",
       "       188, 180,  46, 132,  66, 191, 181, 213, 169, 102, 104, 139, 160,\n",
       "       212,  73, 176, 100, 118, 215,  12, 219,  19,  58, 144, 204,  70,\n",
       "       216, 207, 124, 125,  40, 137,  81,  78,  99,   7,  92,   1,  98,\n",
       "         3,  79,  96, 128,  54,  56,  11,  91,  62, 115, 121,  36, 146,\n",
       "       136,  75,  72, 170,   4,  13,  45, 178,   8,  77,  71,  76, 190,\n",
       "       185, 209,  47,   2, 162, 192,  24, 110,  26, 101,  65, 217, 173,\n",
       "       183, 220,   0,  39, 211,  55, 130, 195,  80,  89, 201, 147, 142,\n",
       "        10, 134,  60,  25,  42,  15, 167,  90,  88, 151,  31, 148,  97,\n",
       "        87,  52, 218, 158, 159,  30, 206, 205, 119,  50,  49, 221,  82,\n",
       "        94,  27,  84, 171, 200,  37, 108, 186, 157, 223,  23, 149, 113,\n",
       "       129,  22,  16, 182, 193,  86, 163, 197, 138, 116,  29, 177, 165,\n",
       "       120,  69, 166, 152,  95,  85, 222,  20,  59, 105, 111, 127, 174,\n",
       "       109, 196, 175, 103, 187, 131, 184,   6,  44, 154, 199, 145, 198,\n",
       "       210,  67,  93,  21,  68, 179,  33,  53, 112, 214,  83,  32, 123,\n",
       "       107, 135, 155])"
      ]
     },
     "execution_count": 10,
     "metadata": {},
     "output_type": "execute_result"
    }
   ],
   "source": [
    "data['country_code'].unique()             # Перевіримо чи спрацювало кодування"
   ]
  },
  {
   "cell_type": "markdown",
   "metadata": {
    "id": "xHwG9aaB5OkS"
   },
   "source": [
    "Візуалізація даних"
   ]
  },
  {
   "cell_type": "code",
   "execution_count": 11,
   "metadata": {
    "id": "zYyYLKQo5VlF"
   },
   "outputs": [],
   "source": [
    "def vis(data,main_atrr,secon):     # функція, яка зображує точки даних у площині двох координат\n",
    "  y = data[main_atrr]\n",
    "  x = data[secon]\n",
    "  plt.plot(x,y,'o')\n",
    "  plt.xlabel(secon)\n",
    "  plt.ylabel(main_atrr)"
   ]
  },
  {
   "cell_type": "code",
   "execution_count": 12,
   "metadata": {
    "colab": {
     "base_uri": "https://localhost:8080/",
     "height": 276
    },
    "id": "dXNDHBID6c5u",
    "outputId": "28de0a37-6fe1-456b-afbf-7f649698d868"
   },
   "outputs": [
    {
     "data": {
      "image/png": "[encoded data removed]",
      "text/plain": [
       "<Figure size 640x480 with 1 Axes>"
      ]
     },
     "metadata": {},
     "output_type": "display_data"
    }
   ],
   "source": [
    "vis(data, 'target_full_ltv_day30', 'app_iap_ltv_day3')   "
   ]
  },
  {
   "cell_type": "markdown",
   "metadata": {
    "id": "ZYIJHFc9kit6"
   },
   "source": [
    "Гістограма "
   ]
  },
  {
   "cell_type": "code",
   "execution_count": 13,
   "metadata": {
    "colab": {
     "base_uri": "https://localhost:8080/",
     "height": 294
    },
    "id": "zawvT9zmo9q4",
    "outputId": "2e8e437a-98b7-422b-d52d-32da199c22c6"
   },
   "outputs": [
    {
     "data": {
      "text/plain": [
       "<AxesSubplot:xlabel='chapters_finished_day7', ylabel='Count'>"
      ]
     },
     "execution_count": 13,
     "metadata": {},
     "output_type": "execute_result"
    },
    {
     "data": {
      "image/png": "[encoded data removed]",
      "text/plain": [
       "<Figure size 640x480 with 1 Axes>"
      ]
     },
     "metadata": {},
     "output_type": "display_data"
    }
   ],
   "source": [
    "var = 'chapters_finished_day7'\n",
    "sns.histplot(data=data,x=var,bins=50)"
   ]
  },
  {
   "cell_type": "code",
   "execution_count": 49,
   "metadata": {
    "colab": {
     "base_uri": "https://localhost:8080/"
    },
    "id": "sHM6J_ZvsJ0k",
    "outputId": "a98c22d5-c281-4d10-b4f6-80f4dc95f9cc"
   },
   "outputs": [
    {
     "name": "stdout",
     "output_type": "stream",
     "text": [
      "Дохід від гравців, у яких chapters_finished_day7=0 6113.190245197164\n",
      "Дохід від гравців, у яких chapters_finished_day7!=0 370932.99803929316\n",
      "Середній дохід від гравців, у яких chapters_finished_day7=0 0.0068819912519331155\n",
      "Середній дохід від гравців, у яких chapters_finished_day7!=0 0.6400428579008551\n"
     ]
    }
   ],
   "source": [
    "print('Дохід від гравців, у яких '+str(var)+'=0', data[data[var]==0]['target_full_ltv_day30'].sum())\n",
    "print('Дохід від гравців, у яких '+str(var)+'!=0', data[data[var]!=0]['target_full_ltv_day30'].sum())\n",
    "print('Середній дохід від гравців, у яких '+str(var)+'=0', data[data[var]==0]['target_full_ltv_day30'].mean())\n",
    "print('Середній дохід від гравців, у яких '+str(var)+'!=0', data[data[var]!=0]['target_full_ltv_day30'].mean())     "
   ]
  },
  {
   "cell_type": "markdown",
   "metadata": {
    "id": "w7fxOne2kWqX"
   },
   "source": [
    "Зображуємо діаграму, щоб побачити як розподілені різні платформи у користувачів"
   ]
  },
  {
   "cell_type": "code",
   "execution_count": 15,
   "metadata": {
    "colab": {
     "base_uri": "https://localhost:8080/",
     "height": 355
    },
    "id": "e5qi2fJEg2fY",
    "outputId": "07c2abb3-dc06-4bb0-de20-bd4df9a69f27"
   },
   "outputs": [
    {
     "data": {
      "text/plain": [
       "([<matplotlib.patches.Wedge at 0x12f3303d0>,\n",
       "  <matplotlib.patches.Wedge at 0x12f330af0>],\n",
       " [Text(0.35494489906126164, 1.041159987048288, 'ios'),\n",
       "  Text(-0.3549449965416937, -1.0411599538159433, 'android')],\n",
       " [Text(0.19360630857886996, 0.5679054474808842, '39.5%'),\n",
       "  Text(-0.19360636175001475, -0.5679054293541509, '60.5%')])"
      ]
     },
     "execution_count": 15,
     "metadata": {},
     "output_type": "execute_result"
    },
    {
     "data": {
      "image/png": "[encoded data removed]",
      "text/plain": [
       "<Figure size 640x480 with 1 Axes>"
      ]
     },
     "metadata": {},
     "output_type": "display_data"
    }
   ],
   "source": [
    "plt.pie([data['platform'].sum(),data['platform'].shape[0] - data['platform'].sum()], labels = ['ios','android'], autopct='%1.1f%%')"
   ]
  },
  {
   "cell_type": "markdown",
   "metadata": {
    "id": "Gcp8p9-7Pu-V"
   },
   "source": [
    "Кореляція"
   ]
  },
  {
   "cell_type": "code",
   "execution_count": 16,
   "metadata": {
    "id": "h_-pvHfkPf1c"
   },
   "outputs": [],
   "source": [
    "target_columns = ['target_sub_ltv_day30', 'target_iap_ltv_day30', 'target_ad_ltv_day30']\n",
    "ord_col = list(set(data.columns).difference(set(target_columns)))   "
   ]
  },
  {
   "cell_type": "code",
   "execution_count": 17,
   "metadata": {
    "colab": {
     "base_uri": "https://localhost:8080/"
    },
    "id": "iRfzsXH9S9mN",
    "outputId": "a61ec956-7c8a-46b0-f745-9f7fcb5fc9c2"
   },
   "outputs": [
    {
     "name": "stdout",
     "output_type": "stream",
     "text": [
      "['chapters_closed_day7', 'app_iap_ltv_day3', 'total_sessions_day1', 'diamonds_spent_day1', 'chapters_closed_session9', 'chapters_opened_session1', 'total_sessions_day7', 'retained_day1', 'chapters_finished_session3', 'diamonds_received_day7', 'day', 'media_source', 'diamonds_spent_day3', 'diamonds_spent_day0', 'chapters_finished_day3', 'chapters_opened_session3', 'tickets_spent_day0', 'month', 'retained_day7', 'chapters_finished_day1', 'diamonds_spent_session1', 'platform', 'chapters_opened_day7', 'chapters_closed_session1', 'chapters_finished_day0', 'retained_day3', 'target_full_ltv_day30', 'diamonds_received_day0', 'chapters_closed_day1', 'total_sessions_day0', 'tickets_spent_session3', 'chapters_closed_session3', 'app_sub_ltv_day1', 'chapters_finished_session1', 'diamonds_spent_session3', 'app_sub_ltv_day3', 'chapters_finished_day7', 'tickets_spent_day1', 'chapters_finished_session9', 'tickets_spent_day3', 'chapters_opened_day3', 'app_iap_ltv_day0', 'country_code', 'chapters_opened_day0', 'chapters_closed_day0', 'ad_ltv_day3', 'chapters_opened_day1', 'chapters_closed_day3', 'diamonds_spent_session9', 'diamonds_received_day1', 'diamonds_spent_day7', 'tickets_spent_day7', 'total_sessions_day3', 'ad_ltv_day1', 'year', 'ad_ltv_day0', 'app_sub_ltv_day0', 'chapters_opened_session9', 'app_iap_ltv_day1', 'tickets_spent_session9', 'diamonds_received_day3', 'tickets_spent_session1']\n"
     ]
    }
   ],
   "source": [
    "print(ord_col)"
   ]
  },
  {
   "cell_type": "code",
   "execution_count": 18,
   "metadata": {
    "id": "3afQuLXT28K0"
   },
   "outputs": [],
   "source": [
    "data = data.astype('float64')"
   ]
  },
  {
   "cell_type": "code",
   "execution_count": 19,
   "metadata": {
    "colab": {
     "base_uri": "https://localhost:8080/"
    },
    "id": "Y1noin863vOE",
    "outputId": "93409742-7d6c-4198-ad03-323aab790e0e"
   },
   "outputs": [
    {
     "data": {
      "text/plain": [
       "True"
      ]
     },
     "execution_count": 19,
     "metadata": {},
     "output_type": "execute_result"
    }
   ],
   "source": [
    "np.all(data.dtypes=='float64')"
   ]
  },
  {
   "cell_type": "code",
   "execution_count": 50,
   "metadata": {
    "colab": {
     "base_uri": "https://localhost:8080/"
    },
    "id": "-TkCjcM0SQnJ",
    "outputId": "c442f6db-9484-4d49-cfcb-06c2c3f4494b"
   },
   "outputs": [
    {
     "data": {
      "text/html": [
       "<div>\n",
       "<style scoped>\n",
       "    .dataframe tbody tr th:only-of-type {\n",
       "        vertical-align: middle;\n",
       "    }\n",
       "\n",
       "    .dataframe tbody tr th {\n",
       "        vertical-align: top;\n",
       "    }\n",
       "\n",
       "    .dataframe thead th {\n",
       "        text-align: right;\n",
       "    }\n",
       "</style>\n",
       "<table border=\"1\" class=\"dataframe\">\n",
       "  <thead>\n",
       "    <tr style=\"text-align: right;\">\n",
       "      <th></th>\n",
       "      <th>total_sessions_day0</th>\n",
       "      <th>total_sessions_day1</th>\n",
       "      <th>total_sessions_day3</th>\n",
       "      <th>total_sessions_day7</th>\n",
       "      <th>chapters_finished_day0</th>\n",
       "      <th>chapters_finished_day1</th>\n",
       "      <th>chapters_finished_day3</th>\n",
       "      <th>chapters_finished_day7</th>\n",
       "      <th>chapters_opened_day0</th>\n",
       "      <th>chapters_opened_day1</th>\n",
       "      <th>...</th>\n",
       "      <th>ad_ltv_day1</th>\n",
       "      <th>ad_ltv_day3</th>\n",
       "      <th>platform</th>\n",
       "      <th>target_sub_ltv_day30</th>\n",
       "      <th>target_iap_ltv_day30</th>\n",
       "      <th>target_ad_ltv_day30</th>\n",
       "      <th>target_full_ltv_day30</th>\n",
       "      <th>year</th>\n",
       "      <th>month</th>\n",
       "      <th>day</th>\n",
       "    </tr>\n",
       "  </thead>\n",
       "  <tbody>\n",
       "    <tr>\n",
       "      <th>count</th>\n",
       "      <td>1.467832e+06</td>\n",
       "      <td>1.467832e+06</td>\n",
       "      <td>1.467832e+06</td>\n",
       "      <td>1.467832e+06</td>\n",
       "      <td>1.467832e+06</td>\n",
       "      <td>1.467832e+06</td>\n",
       "      <td>1.467832e+06</td>\n",
       "      <td>1.467832e+06</td>\n",
       "      <td>1.467832e+06</td>\n",
       "      <td>1.467832e+06</td>\n",
       "      <td>...</td>\n",
       "      <td>1.467832e+06</td>\n",
       "      <td>1.467832e+06</td>\n",
       "      <td>1.467832e+06</td>\n",
       "      <td>1.467832e+06</td>\n",
       "      <td>1.467832e+06</td>\n",
       "      <td>1.467832e+06</td>\n",
       "      <td>1.467832e+06</td>\n",
       "      <td>1.467832e+06</td>\n",
       "      <td>1.467832e+06</td>\n",
       "      <td>1.467832e+06</td>\n",
       "    </tr>\n",
       "    <tr>\n",
       "      <th>mean</th>\n",
       "      <td>1.845580e+00</td>\n",
       "      <td>2.191869e+00</td>\n",
       "      <td>2.606548e+00</td>\n",
       "      <td>3.110570e+00</td>\n",
       "      <td>1.234763e+00</td>\n",
       "      <td>1.498150e+00</td>\n",
       "      <td>1.772233e+00</td>\n",
       "      <td>2.055170e+00</td>\n",
       "      <td>2.099693e+00</td>\n",
       "      <td>2.382293e+00</td>\n",
       "      <td>...</td>\n",
       "      <td>1.090574e-02</td>\n",
       "      <td>1.325368e-02</td>\n",
       "      <td>3.954172e-01</td>\n",
       "      <td>2.203037e-02</td>\n",
       "      <td>2.139268e-01</td>\n",
       "      <td>2.091572e-02</td>\n",
       "      <td>2.568728e-01</td>\n",
       "      <td>2.021392e+03</td>\n",
       "      <td>7.685820e+00</td>\n",
       "      <td>1.861522e+01</td>\n",
       "    </tr>\n",
       "    <tr>\n",
       "      <th>std</th>\n",
       "      <td>2.530274e+00</td>\n",
       "      <td>3.620912e+00</td>\n",
       "      <td>5.345442e+00</td>\n",
       "      <td>7.884984e+00</td>\n",
       "      <td>3.048333e+00</td>\n",
       "      <td>3.975010e+00</td>\n",
       "      <td>5.033945e+00</td>\n",
       "      <td>6.325564e+00</td>\n",
       "      <td>3.117375e+00</td>\n",
       "      <td>4.077269e+00</td>\n",
       "      <td>...</td>\n",
       "      <td>6.009280e-02</td>\n",
       "      <td>7.472105e-02</td>\n",
       "      <td>4.889403e-01</td>\n",
       "      <td>3.088758e-01</td>\n",
       "      <td>2.097916e+00</td>\n",
       "      <td>1.601929e-01</td>\n",
       "      <td>2.274466e+00</td>\n",
       "      <td>4.882406e-01</td>\n",
       "      <td>5.370647e+00</td>\n",
       "      <td>9.568710e+00</td>\n",
       "    </tr>\n",
       "    <tr>\n",
       "      <th>min</th>\n",
       "      <td>0.000000e+00</td>\n",
       "      <td>0.000000e+00</td>\n",
       "      <td>0.000000e+00</td>\n",
       "      <td>0.000000e+00</td>\n",
       "      <td>0.000000e+00</td>\n",
       "      <td>0.000000e+00</td>\n",
       "      <td>0.000000e+00</td>\n",
       "      <td>0.000000e+00</td>\n",
       "      <td>0.000000e+00</td>\n",
       "      <td>0.000000e+00</td>\n",
       "      <td>...</td>\n",
       "      <td>0.000000e+00</td>\n",
       "      <td>0.000000e+00</td>\n",
       "      <td>0.000000e+00</td>\n",
       "      <td>-2.829604e+00</td>\n",
       "      <td>0.000000e+00</td>\n",
       "      <td>0.000000e+00</td>\n",
       "      <td>-2.777195e+00</td>\n",
       "      <td>2.021000e+03</td>\n",
       "      <td>1.000000e+00</td>\n",
       "      <td>1.000000e+00</td>\n",
       "    </tr>\n",
       "    <tr>\n",
       "      <th>25%</th>\n",
       "      <td>1.000000e+00</td>\n",
       "      <td>1.000000e+00</td>\n",
       "      <td>1.000000e+00</td>\n",
       "      <td>1.000000e+00</td>\n",
       "      <td>0.000000e+00</td>\n",
       "      <td>0.000000e+00</td>\n",
       "      <td>0.000000e+00</td>\n",
       "      <td>0.000000e+00</td>\n",
       "      <td>1.000000e+00</td>\n",
       "      <td>1.000000e+00</td>\n",
       "      <td>...</td>\n",
       "      <td>0.000000e+00</td>\n",
       "      <td>0.000000e+00</td>\n",
       "      <td>0.000000e+00</td>\n",
       "      <td>0.000000e+00</td>\n",
       "      <td>0.000000e+00</td>\n",
       "      <td>0.000000e+00</td>\n",
       "      <td>0.000000e+00</td>\n",
       "      <td>2.021000e+03</td>\n",
       "      <td>1.000000e+00</td>\n",
       "      <td>1.000000e+01</td>\n",
       "    </tr>\n",
       "    <tr>\n",
       "      <th>50%</th>\n",
       "      <td>1.000000e+00</td>\n",
       "      <td>1.000000e+00</td>\n",
       "      <td>1.000000e+00</td>\n",
       "      <td>1.000000e+00</td>\n",
       "      <td>0.000000e+00</td>\n",
       "      <td>0.000000e+00</td>\n",
       "      <td>0.000000e+00</td>\n",
       "      <td>0.000000e+00</td>\n",
       "      <td>1.000000e+00</td>\n",
       "      <td>1.000000e+00</td>\n",
       "      <td>...</td>\n",
       "      <td>0.000000e+00</td>\n",
       "      <td>0.000000e+00</td>\n",
       "      <td>0.000000e+00</td>\n",
       "      <td>0.000000e+00</td>\n",
       "      <td>0.000000e+00</td>\n",
       "      <td>0.000000e+00</td>\n",
       "      <td>0.000000e+00</td>\n",
       "      <td>2.021000e+03</td>\n",
       "      <td>1.200000e+01</td>\n",
       "      <td>2.100000e+01</td>\n",
       "    </tr>\n",
       "    <tr>\n",
       "      <th>75%</th>\n",
       "      <td>2.000000e+00</td>\n",
       "      <td>2.000000e+00</td>\n",
       "      <td>2.000000e+00</td>\n",
       "      <td>2.000000e+00</td>\n",
       "      <td>1.000000e+00</td>\n",
       "      <td>1.000000e+00</td>\n",
       "      <td>1.000000e+00</td>\n",
       "      <td>1.000000e+00</td>\n",
       "      <td>2.000000e+00</td>\n",
       "      <td>2.000000e+00</td>\n",
       "      <td>...</td>\n",
       "      <td>0.000000e+00</td>\n",
       "      <td>0.000000e+00</td>\n",
       "      <td>1.000000e+00</td>\n",
       "      <td>0.000000e+00</td>\n",
       "      <td>0.000000e+00</td>\n",
       "      <td>0.000000e+00</td>\n",
       "      <td>0.000000e+00</td>\n",
       "      <td>2.022000e+03</td>\n",
       "      <td>1.200000e+01</td>\n",
       "      <td>2.700000e+01</td>\n",
       "    </tr>\n",
       "    <tr>\n",
       "      <th>max</th>\n",
       "      <td>7.710000e+02</td>\n",
       "      <td>7.710000e+02</td>\n",
       "      <td>7.710000e+02</td>\n",
       "      <td>9.050000e+02</td>\n",
       "      <td>7.300000e+01</td>\n",
       "      <td>3.590000e+02</td>\n",
       "      <td>3.600000e+02</td>\n",
       "      <td>3.600000e+02</td>\n",
       "      <td>7.700000e+01</td>\n",
       "      <td>3.600000e+02</td>\n",
       "      <td>...</td>\n",
       "      <td>1.974900e+01</td>\n",
       "      <td>1.997062e+01</td>\n",
       "      <td>1.000000e+00</td>\n",
       "      <td>4.545741e+01</td>\n",
       "      <td>2.687878e+02</td>\n",
       "      <td>3.393084e+01</td>\n",
       "      <td>2.720042e+02</td>\n",
       "      <td>2.022000e+03</td>\n",
       "      <td>1.200000e+01</td>\n",
       "      <td>3.100000e+01</td>\n",
       "    </tr>\n",
       "  </tbody>\n",
       "</table>\n",
       "<p>8 rows × 65 columns</p>\n",
       "</div>"
      ],
      "text/plain": [
       "       total_sessions_day0  total_sessions_day1  total_sessions_day3  \\\n",
       "count         1.467832e+06         1.467832e+06         1.467832e+06   \n",
       "mean          1.845580e+00         2.191869e+00         2.606548e+00   \n",
       "std           2.530274e+00         3.620912e+00         5.345442e+00   \n",
       "min           0.000000e+00         0.000000e+00         0.000000e+00   \n",
       "25%           1.000000e+00         1.000000e+00         1.000000e+00   \n",
       "50%           1.000000e+00         1.000000e+00         1.000000e+00   \n",
       "75%           2.000000e+00         2.000000e+00         2.000000e+00   \n",
       "max           7.710000e+02         7.710000e+02         7.710000e+02   \n",
       "\n",
       "       total_sessions_day7  chapters_finished_day0  chapters_finished_day1  \\\n",
       "count         1.467832e+06            1.467832e+06            1.467832e+06   \n",
       "mean          3.110570e+00            1.234763e+00            1.498150e+00   \n",
       "std           7.884984e+00            3.048333e+00            3.975010e+00   \n",
       "min           0.000000e+00            0.000000e+00            0.000000e+00   \n",
       "25%           1.000000e+00            0.000000e+00            0.000000e+00   \n",
       "50%           1.000000e+00            0.000000e+00            0.000000e+00   \n",
       "75%           2.000000e+00            1.000000e+00            1.000000e+00   \n",
       "max           9.050000e+02            7.300000e+01            3.590000e+02   \n",
       "\n",
       "       chapters_finished_day3  chapters_finished_day7  chapters_opened_day0  \\\n",
       "count            1.467832e+06            1.467832e+06          1.467832e+06   \n",
       "mean             1.772233e+00            2.055170e+00          2.099693e+00   \n",
       "std              5.033945e+00            6.325564e+00          3.117375e+00   \n",
       "min              0.000000e+00            0.000000e+00          0.000000e+00   \n",
       "25%              0.000000e+00            0.000000e+00          1.000000e+00   \n",
       "50%              0.000000e+00            0.000000e+00          1.000000e+00   \n",
       "75%              1.000000e+00            1.000000e+00          2.000000e+00   \n",
       "max              3.600000e+02            3.600000e+02          7.700000e+01   \n",
       "\n",
       "       chapters_opened_day1  ...   ad_ltv_day1   ad_ltv_day3      platform  \\\n",
       "count          1.467832e+06  ...  1.467832e+06  1.467832e+06  1.467832e+06   \n",
       "mean           2.382293e+00  ...  1.090574e-02  1.325368e-02  3.954172e-01   \n",
       "std            4.077269e+00  ...  6.009280e-02  7.472105e-02  4.889403e-01   \n",
       "min            0.000000e+00  ...  0.000000e+00  0.000000e+00  0.000000e+00   \n",
       "25%            1.000000e+00  ...  0.000000e+00  0.000000e+00  0.000000e+00   \n",
       "50%            1.000000e+00  ...  0.000000e+00  0.000000e+00  0.000000e+00   \n",
       "75%            2.000000e+00  ...  0.000000e+00  0.000000e+00  1.000000e+00   \n",
       "max            3.600000e+02  ...  1.974900e+01  1.997062e+01  1.000000e+00   \n",
       "\n",
       "       target_sub_ltv_day30  target_iap_ltv_day30  target_ad_ltv_day30  \\\n",
       "count          1.467832e+06          1.467832e+06         1.467832e+06   \n",
       "mean           2.203037e-02          2.139268e-01         2.091572e-02   \n",
       "std            3.088758e-01          2.097916e+00         1.601929e-01   \n",
       "min           -2.829604e+00          0.000000e+00         0.000000e+00   \n",
       "25%            0.000000e+00          0.000000e+00         0.000000e+00   \n",
       "50%            0.000000e+00          0.000000e+00         0.000000e+00   \n",
       "75%            0.000000e+00          0.000000e+00         0.000000e+00   \n",
       "max            4.545741e+01          2.687878e+02         3.393084e+01   \n",
       "\n",
       "       target_full_ltv_day30          year         month           day  \n",
       "count           1.467832e+06  1.467832e+06  1.467832e+06  1.467832e+06  \n",
       "mean            2.568728e-01  2.021392e+03  7.685820e+00  1.861522e+01  \n",
       "std             2.274466e+00  4.882406e-01  5.370647e+00  9.568710e+00  \n",
       "min            -2.777195e+00  2.021000e+03  1.000000e+00  1.000000e+00  \n",
       "25%             0.000000e+00  2.021000e+03  1.000000e+00  1.000000e+01  \n",
       "50%             0.000000e+00  2.021000e+03  1.200000e+01  2.100000e+01  \n",
       "75%             0.000000e+00  2.022000e+03  1.200000e+01  2.700000e+01  \n",
       "max             2.720042e+02  2.022000e+03  1.200000e+01  3.100000e+01  \n",
       "\n",
       "[8 rows x 65 columns]"
      ]
     },
     "execution_count": 50,
     "metadata": {},
     "output_type": "execute_result"
    }
   ],
   "source": [
    "data.describe()   # статистичні характеристики наших даних"
   ]
  },
  {
   "cell_type": "code",
   "execution_count": 21,
   "metadata": {
    "colab": {
     "base_uri": "https://localhost:8080/"
    },
    "id": "A5FEJ50wA0MX",
    "outputId": "b5c3a8ef-078d-4017-edc7-f780a592e514"
   },
   "outputs": [
    {
     "data": {
      "text/plain": [
       "chapters_opened_session1      0.150980\n",
       "chapters_closed_day1          0.152283\n",
       "tickets_spent_session1        0.157572\n",
       "chapters_finished_session1    0.163845\n",
       "retained_day1                 0.177551\n",
       "chapters_closed_day3          0.183482\n",
       "retained_day3                 0.187840\n",
       "retained_day7                 0.192130\n",
       "total_sessions_day0           0.195521\n",
       "chapters_closed_day7          0.217513\n",
       "total_sessions_day1           0.229253\n",
       "tickets_spent_session3        0.229660\n",
       "chapters_opened_session3      0.235190\n",
       "chapters_finished_session3    0.244130\n",
       "total_sessions_day3           0.256603\n",
       "tickets_spent_day0            0.269870\n",
       "app_sub_ltv_day3              0.274343\n",
       "total_sessions_day7           0.284839\n",
       "chapters_opened_day0          0.286784\n",
       "diamonds_received_day0        0.290158\n",
       "chapters_finished_day0        0.292734\n",
       "tickets_spent_session9        0.298779\n",
       "ad_ltv_day0                   0.300505\n",
       "tickets_spent_day1            0.310353\n",
       "chapters_opened_session9      0.313546\n",
       "chapters_finished_session9    0.320740\n",
       "chapters_opened_day1          0.328068\n",
       "chapters_finished_day1        0.333980\n",
       "ad_ltv_day1                   0.334121\n",
       "tickets_spent_day3            0.346518\n",
       "diamonds_spent_session1       0.368041\n",
       "ad_ltv_day3                   0.368362\n",
       "chapters_opened_day3          0.369447\n",
       "chapters_finished_day3        0.375659\n",
       "tickets_spent_day7            0.391570\n",
       "diamonds_received_day1        0.394815\n",
       "chapters_opened_day7          0.413583\n",
       "chapters_finished_day7        0.420365\n",
       "diamonds_received_day3        0.476700\n",
       "diamonds_spent_session3       0.528519\n",
       "diamonds_received_day7        0.584553\n",
       "diamonds_spent_day0           0.605621\n",
       "app_iap_ltv_day0              0.636444\n",
       "diamonds_spent_session9       0.662524\n",
       "diamonds_spent_day1           0.674307\n",
       "app_iap_ltv_day1              0.717920\n",
       "diamonds_spent_day3           0.751245\n",
       "app_iap_ltv_day3              0.799408\n",
       "diamonds_spent_day7           0.809262\n",
       "Name: target_full_ltv_day30, dtype: float64"
      ]
     },
     "execution_count": 21,
     "metadata": {},
     "output_type": "execute_result"
    }
   ],
   "source": [
    "# виберемо змінні, які мають кореляцію більше ніж 0.15 з головною змінною\n",
    "corr = data[ord_col].corr()\n",
    "corr_target = corr['target_full_ltv_day30']\n",
    "corr_target = corr_target[corr_target<1]\n",
    "a = np.abs(corr_target).sort_values()\n",
    "cor_min = 0.15\n",
    "corr_list = a[a>cor_min]\n",
    "corr_list"
   ]
  },
  {
   "cell_type": "code",
   "execution_count": 22,
   "metadata": {
    "colab": {
     "base_uri": "https://localhost:8080/"
    },
    "id": "1KGfuxkAAHSh",
    "outputId": "d78dde06-e916-44f8-d243-3210dff78e12"
   },
   "outputs": [
    {
     "name": "stdout",
     "output_type": "stream",
     "text": [
      "кількість змінних, у яких кореляція з головною змінною>0.15 =  49\n"
     ]
    }
   ],
   "source": [
    "print('кількість змінних, у яких кореляція з головною змінною>'+str(cor_min)+' = ', corr_list.shape[0])\n",
    "main_col = list(corr_list.index)"
   ]
  },
  {
   "cell_type": "markdown",
   "metadata": {
    "id": "OInJwk_YYkwn"
   },
   "source": [
    "Вибір моделі"
   ]
  },
  {
   "cell_type": "code",
   "execution_count": 23,
   "metadata": {
    "id": "AKJ6Bn0zHcgC"
   },
   "outputs": [],
   "source": [
    "X = np.array(data[main_col])\n",
    "y = np.array(data['target_full_ltv_day30'])\n",
    "X_train, X_test, y_train, y_test = sk.model_selection.train_test_split(X, y, random_state=42)"
   ]
  },
  {
   "cell_type": "code",
   "execution_count": 24,
   "metadata": {
    "colab": {
     "base_uri": "https://localhost:8080/"
    },
    "id": "1si8lPjzK54j",
    "outputId": "e56ac5ff-40a6-438d-91d7-baac82be8e9d"
   },
   "outputs": [
    {
     "name": "stdout",
     "output_type": "stream",
     "text": [
      "shape(X) =  (1467832, 49)\n",
      "shape(y) =  (1467832,)\n"
     ]
    }
   ],
   "source": [
    "print('shape(X) = ', X.shape)\n",
    "print('shape(y) = ', y.shape)"
   ]
  },
  {
   "cell_type": "markdown",
   "metadata": {
    "id": "MbsnkziiIQKK"
   },
   "source": [
    "Linear regression"
   ]
  },
  {
   "cell_type": "code",
   "execution_count": 25,
   "metadata": {
    "colab": {
     "base_uri": "https://localhost:8080/"
    },
    "id": "K69dEp0CIBLe",
    "outputId": "71c6de7a-bf2c-435f-af2b-b07149909a72"
   },
   "outputs": [
    {
     "name": "stdout",
     "output_type": "stream",
     "text": [
      "test R2_score =  0.7638522762409652\n",
      "train R2_score =  0.7990838274415739\n",
      "test rmse_score =  1.072284493316548\n",
      "test mape_score =  99494980624846.48\n",
      "test mae_score =  0.13278890084457187\n"
     ]
    }
   ],
   "source": [
    "model1 = LinearRegression().fit(X_train, y_train)\n",
    "print('test R2_score = ', model1.score(X_test, y_test))\n",
    "print('train R2_score = ', model1.score(X_train, y_train))\n",
    "print('test rmse_score = ', np.sqrt(mse(y_test, model1.predict(X_test))))\n",
    "print('test mape_score = ', mape(y_test, model1.predict(X_test)))\n",
    "print('test mae_score = ', mae(y_test, model1.predict(X_test)))"
   ]
  },
  {
   "cell_type": "code",
   "execution_count": 26,
   "metadata": {
    "colab": {
     "base_uri": "https://localhost:8080/"
    },
    "id": "spgMOO85u_Gn",
    "outputId": "cdc67fb6-03d3-4a5d-e9a3-f28de4c85923"
   },
   "outputs": [
    {
     "name": "stdout",
     "output_type": "stream",
     "text": [
      "(mape для y!=0): 22.86196157083573\n"
     ]
    }
   ],
   "source": [
    "print('(mape для y!=0):',mape(y_test[y_test!=0], model1.predict(X_test)[y_test!=0]))"
   ]
  },
  {
   "cell_type": "markdown",
   "metadata": {
    "id": "kBGtxRQ_QD45"
   },
   "source": [
    "MLPRegressor"
   ]
  },
  {
   "cell_type": "code",
   "execution_count": 27,
   "metadata": {
    "id": "C8Njgms8QHhU"
   },
   "outputs": [
    {
     "data": {
      "text/plain": [
       "\"alph1 = [0.01,0.03,0.05,0.08,0.12]\\nalph2 = [0.001,0.003,0.005,0.008,0.012]\\n\\nfor i in alph1:\\n  model2 = MLPRegressor(random_state=42, hidden_layer_sizes=(64,32), max_iter=500, alpha=i, n_iter_no_change=5).fit(X_train, y_train)\\n  print('alpha = ', i)\\n  print('test score = ', model2.score(X_test, y_test))\\n  print('train score = ', model2.score(X_train, y_train))\\n  print('\\n')\\n  \\nfor i in alph2:\\n  model2 = MLPRegressor(random_state=42, hidden_layer_sizes=(64,32), max_iter=500, alpha=i, n_iter_no_change=5).fit(X_train, y_train)\\n  print('alpha = ', i)\\n  print('test score = ', model2.score(X_test, y_test))\\n  print('train score = ', model2.score(X_train, y_train))\\n  print('\\n')\""
      ]
     },
     "execution_count": 27,
     "metadata": {},
     "output_type": "execute_result"
    }
   ],
   "source": [
    "# процес вибору адекватних параметрів для нейромережі\n",
    "'''alph1 = [0.01,0.03,0.05,0.08,0.12]\n",
    "alph2 = [0.001,0.003,0.005,0.008,0.012]\n",
    "\n",
    "for i in alph1:\n",
    "  model2 = MLPRegressor(random_state=42, hidden_layer_sizes=(64,32), max_iter=500, alpha=i, n_iter_no_change=5).fit(X_train, y_train)\n",
    "  print('alpha = ', i)\n",
    "  print('test score = ', model2.score(X_test, y_test))\n",
    "  print('train score = ', model2.score(X_train, y_train))\n",
    "  print('\\n')\n",
    "  \n",
    "for i in alph2:\n",
    "  model2 = MLPRegressor(random_state=42, hidden_layer_sizes=(64,32), max_iter=500, alpha=i, n_iter_no_change=5).fit(X_train, y_train)\n",
    "  print('alpha = ', i)\n",
    "  print('test score = ', model2.score(X_test, y_test))\n",
    "  print('train score = ', model2.score(X_train, y_train))\n",
    "  print('\\n')'''"
   ]
  },
  {
   "cell_type": "code",
   "execution_count": 28,
   "metadata": {
    "colab": {
     "base_uri": "https://localhost:8080/"
    },
    "id": "aVb-a_d7eINS",
    "outputId": "00f9db29-c665-4d0e-aa0a-72e91a7876d0"
   },
   "outputs": [
    {
     "name": "stdout",
     "output_type": "stream",
     "text": [
      "test R2_score =  0.7844315226453266\n",
      "train R2_score =  0.8005214303320115\n",
      "test rmse_score =  1.0244971881004095\n",
      "test mape_score =  28819444574364.25\n",
      "test mae_score =  0.09425775305817256\n"
     ]
    }
   ],
   "source": [
    "model2 = MLPRegressor(random_state=42, hidden_layer_sizes=(64,32), max_iter=500, alpha=0.001, n_iter_no_change=5).fit(X_train, y_train)\n",
    "print('test R2_score = ', model2.score(X_test, y_test))\n",
    "print('train R2_score = ', model2.score(X_train, y_train))\n",
    "print('test rmse_score = ', np.sqrt(mse(y_test, model2.predict(X_test))))\n",
    "print('test mape_score = ', mape(y_test, model2.predict(X_test)))\n",
    "print('test mae_score = ', mae(y_test, model2.predict(X_test)))"
   ]
  },
  {
   "cell_type": "code",
   "execution_count": 29,
   "metadata": {
    "colab": {
     "base_uri": "https://localhost:8080/"
    },
    "id": "ZlqZv-7H2gYs",
    "outputId": "f3d8a9c5-92cc-4e73-f68b-3b702aa9daab"
   },
   "outputs": [
    {
     "name": "stdout",
     "output_type": "stream",
     "text": [
      "(mape для y!=0): 7.521882858943411\n"
     ]
    }
   ],
   "source": [
    "print('(mape для y!=0):',mape(y_test[y_test!=0], model2.predict(X_test)[y_test!=0]))"
   ]
  },
  {
   "cell_type": "code",
   "execution_count": 30,
   "metadata": {
    "colab": {
     "base_uri": "https://localhost:8080/"
    },
    "id": "Fv5csvfFQQf8",
    "outputId": "c74e8445-86ba-40e2-aac9-98bdcd8cfe97"
   },
   "outputs": [
    {
     "name": "stdout",
     "output_type": "stream",
     "text": [
      "test R2_score =  0.7825550247756997\n",
      "train R2_score =  0.884298616418279\n"
     ]
    }
   ],
   "source": [
    "model3 = GradientBoostingRegressor(n_estimators=200, learning_rate=0.1, max_depth=3, random_state=42, loss='squared_error').fit(X_train, y_train)\n",
    "print('test R2_score = ', model3.score(X_test, y_test))\n",
    "print('train R2_score = ', model3.score(X_train, y_train))"
   ]
  },
  {
   "cell_type": "code",
   "execution_count": 31,
   "metadata": {
    "colab": {
     "base_uri": "https://localhost:8080/"
    },
    "id": "MqOqQBk-yJwJ",
    "outputId": "e75a8691-21c5-4e3c-8b1b-175307dc0012"
   },
   "outputs": [
    {
     "name": "stdout",
     "output_type": "stream",
     "text": [
      "test rmse_score =  1.0289465890850418\n",
      "test mape_score =  30619358834314.445\n",
      "test mae_score =  0.0895138132817083\n"
     ]
    }
   ],
   "source": [
    "print('test rmse_score = ', np.sqrt(mse(y_test, model3.predict(X_test))))\n",
    "print('test mape_score = ', mape(y_test, model3.predict(X_test)))\n",
    "print('test mae_score = ', mae(y_test, model3.predict(X_test)))"
   ]
  },
  {
   "cell_type": "code",
   "execution_count": 48,
   "metadata": {
    "colab": {
     "base_uri": "https://localhost:8080/"
    },
    "id": "-Mi4rjTe3Wdi",
    "outputId": "f59af3d9-8351-4620-bb95-d56d84aadf18"
   },
   "outputs": [
    {
     "name": "stdout",
     "output_type": "stream",
     "text": [
      "(mape для y!=0): 5.21730293656799\n"
     ]
    }
   ],
   "source": [
    "print('(mape для y!=0):',mape(y_test[y_test!=0], model3.predict(X_test)[y_test!=0]))"
   ]
  },
  {
   "cell_type": "code",
   "execution_count": 36,
   "metadata": {
    "id": "E14IjNQkSBWo"
   },
   "outputs": [],
   "source": [
    "# збереження натренованих моделей\n",
    "def download_models(models):\n",
    "  import pickle\n",
    "\n",
    "  with open('models1.pkl', 'wb') as f:\n",
    "    pickle.dump(models, f)\n"
   ]
  },
  {
   "cell_type": "code",
   "execution_count": 37,
   "metadata": {
    "colab": {
     "base_uri": "https://localhost:8080/",
     "height": 17
    },
    "id": "8EFxhwBDSTFi",
    "outputId": "22acbdb5-2e7d-403a-d481-1e34bd7e4c69"
   },
   "outputs": [],
   "source": [
    "models = [model1, model2, model3]\n",
    "download_models(models)"
   ]
  },
  {
   "cell_type": "code",
   "execution_count": 51,
   "metadata": {},
   "outputs": [],
   "source": [
    "with open('test.npy', 'wb') as f:\n",
    "    np.save(f, X_test)\n",
    "    np.save(f, y_test)"
   ]
  },
  {
   "cell_type": "code",
   "execution_count": null,
   "metadata": {},
   "outputs": [],
   "source": []
  }
 ],
 "metadata": {
  "colab": {
   "collapsed_sections": [],
   "provenance": []
  },
  "kernelspec": {
   "display_name": "Python 3 (ipykernel)",
   "language": "python",
   "name": "python3"
  },
  "language_info": {
   "codemirror_mode": {
    "name": "ipython",
    "version": 3
   },
   "file_extension": ".py",
   "mimetype": "text/x-python",
   "name": "python",
   "nbconvert_exporter": "python",
   "pygments_lexer": "ipython3",
   "version": "3.10.7"
  }
 },
 "nbformat": 4,
 "nbformat_minor": 1
}
